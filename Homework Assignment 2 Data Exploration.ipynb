{
 "cells": [
  {
   "cell_type": "code",
   "execution_count": 1,
   "metadata": {},
   "outputs": [],
   "source": [
    "import pandas as pd\n",
    "import numpy as np\n",
    "from collections import Counter\n",
    "import matplotlib.pyplot as plt\n",
    "import gensim\n",
    "from gensim import corpora\n",
    "import nltk\n",
    "from sklearn.feature_extraction.text import CountVectorizer"
   ]
  },
  {
   "cell_type": "markdown",
   "metadata": {},
   "source": [
    "# Download files, set up folder, put files into folder"
   ]
  },
  {
   "cell_type": "code",
   "execution_count": 2,
   "metadata": {},
   "outputs": [],
   "source": [
    "# training data: ./train.tsv\n",
    "# test data:     ./test.tsv"
   ]
  },
  {
   "cell_type": "code",
   "execution_count": 2,
   "metadata": {},
   "outputs": [
    {
     "name": "stdout",
     "output_type": "stream",
     "text": [
      "training data size: 29996\n",
      "       label                                             review\n",
      "0          0  Leaks: Liss seems to be totally incompetent: m...\n",
      "1          1  Replacement Peeler: Loved my old one. Loaned i...\n",
      "2          0  Not what I was expecting: I chose to rate this...\n",
      "3          1  Watch face is hard to read: Although I don't o...\n",
      "4          0  Disappointing: I was eager to read this book s...\n",
      "...      ...                                                ...\n",
      "29991      1  Love EW: I must admit that I am a total TV afi...\n",
      "29992      1  Easy to follow and delicious recipes!: I compl...\n",
      "29993      1  The Beauty and Mystery of Veronique: Perhaps t...\n",
      "29994      1  I love it.: Brilliant, hilarious, quick and ea...\n",
      "29995      0  broken...: bad choice...2d film would not play...\n",
      "\n",
      "[29996 rows x 2 columns]\n"
     ]
    }
   ],
   "source": [
    "filepath = './train.tsv'\n",
    "dataframe = pd.read_csv(filepath, sep = '\\t')\n",
    "print('training data size:', len(dataframe))\n",
    "print(dataframe)"
   ]
  },
  {
   "cell_type": "markdown",
   "metadata": {},
   "source": [
    "# Count unigrams"
   ]
  },
  {
   "cell_type": "code",
   "execution_count": 3,
   "metadata": {},
   "outputs": [
    {
     "name": "stdout",
     "output_type": "stream",
     "text": [
      "Number of unique words: 153396\n",
      "the 117015\n",
      "and 63290\n",
      "a 60040\n",
      "i 59790\n",
      "to 57239\n",
      "of 47056\n",
      "this 41925\n",
      "is 40356\n",
      "it 39287\n",
      "in 27000\n",
      "for 25540\n",
      "that 22153\n",
      "was 19841\n",
      "not 18893\n",
      "you 17548\n",
      "with 16919\n",
      "but 16569\n",
      "on 15657\n",
      "have 15061\n",
      "my 15027\n"
     ]
    }
   ],
   "source": [
    "# keep a counter of word frequency\n",
    "counter = Counter()\n",
    "for index, row in dataframe.iterrows():\n",
    "    counter.update(row['review'].strip().lower().split())\n",
    "print('Number of unique words:', len(counter))\n",
    "\n",
    "# sort words by frequency from high to low\n",
    "for word, count in sorted(counter.items(), key = lambda x: x[1], reverse = True)[:20]:\n",
    "    print (word, count)"
   ]
  },
  {
   "cell_type": "markdown",
   "metadata": {},
   "source": [
    "# Document length distribution"
   ]
  },
  {
   "cell_type": "code",
   "execution_count": 4,
   "metadata": {},
   "outputs": [
    {
     "name": "stdout",
     "output_type": "stream",
     "text": [
      "document length average: 78.49409921322842\n",
      "document length standard deviation: 42.82795227790141\n"
     ]
    }
   ],
   "source": [
    "# keep a list of document lengths (document length = # of tokens in review)\n",
    "length_array = []\n",
    "for index, row in dataframe.iterrows():\n",
    "    length_array.append( len(row['review'].strip().lower().split()) )\n",
    "print ('document length average:', np.mean(length_array))\n",
    "print ('document length standard deviation:', np.std(length_array))"
   ]
  },
  {
   "cell_type": "code",
   "execution_count": 6,
   "metadata": {},
   "outputs": [
    {
     "data": {
      "image/png": "[encoded data removed]",
      "text/plain": [
       "<Figure size 432x288 with 1 Axes>"
      ]
     },
     "metadata": {
      "needs_background": "light"
     },
     "output_type": "display_data"
    }
   ],
   "source": [
    "num_bins = 30\n",
    "n, bins, patches = plt.hist(length_array, num_bins, facecolor='blue', alpha=0.5)\n",
    "plt.show()"
   ]
  },
  {
   "cell_type": "markdown",
   "metadata": {},
   "source": [
    "# Topic modeling"
   ]
  },
  {
   "cell_type": "code",
   "execution_count": 7,
   "metadata": {},
   "outputs": [],
   "source": [
    "# adapted from: https://towardsdatascience.com/topic-modelling-in-python-with-nltk-and-gensim-4ef03213cd21"
   ]
  },
  {
   "cell_type": "code",
   "execution_count": 8,
   "metadata": {},
   "outputs": [
    {
     "name": "stderr",
     "output_type": "stream",
     "text": [
      "[nltk_data] Downloading package stopwords to /Users/ray/nltk_data...\n",
      "[nltk_data]   Package stopwords is already up-to-date!\n"
     ]
    }
   ],
   "source": [
    "nltk.download('stopwords')\n",
    "en_stop = set(nltk.corpus.stopwords.words('english'))"
   ]
  },
  {
   "cell_type": "code",
   "execution_count": 9,
   "metadata": {},
   "outputs": [],
   "source": [
    "# process a text string into a list of tokens\n",
    "\n",
    "def prepare_text_for_lda(text):\n",
    "    # convert all words into lower case, split by white space\n",
    "    tokens = text.strip().lower().split()\n",
    "    \n",
    "    #  remove words with 1 or 2 letters (small words, punctuation)\n",
    "    tokens = [token for token in tokens if len(token) > 2]\n",
    "    \n",
    "    # remove English stopwords (as defined by NLTK)\n",
    "    tokens = [token for token in tokens if token not in en_stop]\n",
    "    return tokens"
   ]
  },
  {
   "cell_type": "code",
   "execution_count": 10,
   "metadata": {},
   "outputs": [],
   "source": [
    "# convert the corpus into a sparse matrix format for gensim\n",
    "\n",
    "text_data = []\n",
    "for index, row in dataframe.iterrows():\n",
    "    review_text = prepare_text_for_lda(row['review'])\n",
    "    text_data.append(review_text)\n",
    "    \n",
    "# print(text_data)\n",
    "            \n",
    "dictionary = corpora.Dictionary(text_data)\n",
    "corpus = [dictionary.doc2bow(text) for text in text_data]\n",
    "\n",
    "# print(corpus)"
   ]
  },
  {
   "cell_type": "code",
   "execution_count": 16,
   "metadata": {},
   "outputs": [],
   "source": [
    "# train latent Dirichlet topic model\n",
    "\n",
    "NUM_TOPICS = 50\n",
    "ldamodel = gensim.models.ldamodel.LdaModel(corpus, num_topics = NUM_TOPICS, id2word=dictionary, passes=30)"
   ]
  },
  {
   "cell_type": "code",
   "execution_count": 17,
   "metadata": {},
   "outputs": [
    {
     "name": "stdout",
     "output_type": "stream",
     "text": [
      "Number of topics: 50\n",
      "(0, '0.017*\"remove\" + 0.017*\"manual\" + 0.016*\"fine.\" + 0.015*\"workout\" + 0.014*\"pump\" + 0.012*\"cook\"')\n",
      "(1, '0.052*\"beautiful\" + 0.046*\"voice\" + 0.039*\"track\" + 0.027*\"radio\" + 0.020*\"ms.\" + 0.019*\"country\"')\n",
      "(2, '0.031*\"lyrics\" + 0.030*\"tracks\" + 0.028*\"beat\" + 0.017*\"wall\" + 0.017*\"song,\" + 0.017*\"holes\"')\n",
      "(3, '0.037*\"baby\" + 0.031*\"food\" + 0.023*\"break\" + 0.020*\"cat\" + 0.016*\"eat\" + 0.014*\"followed\"')\n",
      "(4, '0.027*\"keeps\" + 0.026*\"release\" + 0.022*\"dog\" + 0.015*\"dance\" + 0.015*\"heart\" + 0.014*\"fan,\"')\n",
      "(5, '0.019*\"items\" + 0.016*\"volume\" + 0.014*\"asked\" + 0.014*\"packaging\" + 0.012*\"iron\" + 0.012*\"correct\"')\n",
      "(6, '0.023*\"bible\" + 0.021*\"daily\" + 0.016*\"store.\" + 0.015*\"3rd\" + 0.014*\"adventure\" + 0.013*\"stories.\"')\n",
      "(7, '0.030*\"toy\" + 0.020*\"they\\'re\" + 0.020*\"feels\" + 0.013*\"okay\" + 0.012*\"cause\" + 0.012*\"mean\"')\n",
      "(8, '0.035*\"boy\" + 0.017*\"boys\" + 0.015*\"mp3\" + 0.015*\"finds\" + 0.014*\"plot.\" + 0.013*\"long.\"')\n",
      "(9, '0.020*\"book!\" + 0.018*\"learning\" + 0.015*\"class\" + 0.013*\"christian\" + 0.013*\"moved\" + 0.013*\"current\"')\n",
      "(10, '0.028*\"batteries\" + 0.023*\"kid\" + 0.022*\"green\" + 0.017*\"harry\" + 0.017*\"wood\" + 0.017*\"lose\"')\n",
      "(11, '0.015*\"personal\" + 0.015*\"women\" + 0.011*\"content\" + 0.010*\"men\" + 0.010*\"process\" + 0.008*\"self\"')\n",
      "(12, '0.023*\"war\" + 0.018*\"continue\" + 0.017*\"end.\" + 0.014*\"david\" + 0.012*\"world\" + 0.012*\"written,\"')\n",
      "(13, '0.027*\"recording\" + 0.024*\"copy\" + 0.020*\"study\" + 0.018*\"girls\" + 0.015*\"ear\" + 0.014*\"concert\"')\n",
      "(14, '0.029*\"like\" + 0.019*\"really\" + 0.019*\"one\" + 0.016*\"love\" + 0.015*\"would\" + 0.014*\"great\"')\n",
      "(15, '0.030*\"album\" + 0.027*\"music\" + 0.022*\"songs\" + 0.020*\"best\" + 0.020*\"one\" + 0.018*\"great\"')\n",
      "(16, '0.020*\"seat\" + 0.018*\"tea\" + 0.016*\"glass\" + 0.016*\"interesting.\" + 0.016*\"street\" + 0.014*\"thru\"')\n",
      "(17, '0.051*\"battery\" + 0.018*\"skin\" + 0.014*\"writers\" + 0.013*\"exact\" + 0.013*\"searching\" + 0.012*\"thick\"')\n",
      "(18, '0.017*\"one\" + 0.017*\"would\" + 0.014*\"get\" + 0.013*\"use\" + 0.013*\"bought\" + 0.011*\"buy\"')\n",
      "(19, '0.014*\"information\" + 0.013*\"basic\" + 0.013*\"guide\" + 0.012*\"material\" + 0.012*\"text\" + 0.010*\"use\"')\n",
      "(20, '0.056*\"old\" + 0.036*\"year\" + 0.024*\"loves\" + 0.021*\"son\" + 0.021*\"daughter\" + 0.019*\"years\"')\n",
      "(21, '0.036*\"plastic\" + 0.018*\"sony\" + 0.018*\"cable\" + 0.016*\"tape\" + 0.014*\"digital\" + 0.014*\"step\"')\n",
      "(22, '0.052*\"american\" + 0.027*\"business\" + 0.019*\"required\" + 0.018*\"dr.\" + 0.015*\"city\" + 0.012*\"george\"')\n",
      "(23, '0.028*\"air\" + 0.023*\"bad,\" + 0.016*\"didnt\" + 0.013*\"threw\" + 0.012*\"mixed\" + 0.012*\"lame\"')\n",
      "(24, '0.025*\"black\" + 0.020*\"white\" + 0.014*\"science\" + 0.013*\"mentioned\" + 0.012*\"fiction\" + 0.011*\"turns\"')\n",
      "(25, '0.024*\"print\" + 0.019*\"memory\" + 0.018*\"printer\" + 0.018*\"que\" + 0.011*\"famous\" + 0.011*\"history.\"')\n",
      "(26, '0.020*\"switch\" + 0.013*\"note\" + 0.013*\"strongly\" + 0.013*\"so.\" + 0.012*\"eye\" + 0.012*\"and/or\"')\n",
      "(27, '0.021*\"hot\" + 0.016*\"hour\" + 0.015*\"heat\" + 0.015*\"cold\" + 0.015*\"door\" + 0.014*\"warm\"')\n",
      "(28, '0.037*\"historical\" + 0.018*\"variety\" + 0.016*\"much,\" + 0.014*\"advise\" + 0.012*\"brilliant\" + 0.012*\"plane\"')\n",
      "(29, '0.075*\"great\" + 0.019*\"fit\" + 0.019*\"works\" + 0.018*\"good\" + 0.017*\"size\" + 0.016*\"nice\"')\n",
      "(30, '0.035*\"cute\" + 0.033*\"space\" + 0.027*\"soft\" + 0.023*\"recipes\" + 0.021*\"great!\" + 0.016*\"expected.\"')\n",
      "(31, '0.021*\"disappointed:\" + 0.020*\"brown\" + 0.019*\"shown\" + 0.019*\"vacuum\" + 0.017*\"seasons\" + 0.015*\"fabulous\"')\n",
      "(32, '0.034*\"edition\" + 0.026*\"amazon.\" + 0.019*\"reviews.\" + 0.018*\"online\" + 0.016*\"ship\" + 0.016*\"format\"')\n",
      "(33, '0.039*\"metal\" + 0.020*\"match\" + 0.017*\"sweet\" + 0.016*\"trash\" + 0.015*\"colors\" + 0.013*\"stuff.\"')\n",
      "(34, '0.014*\"character\" + 0.012*\"story\" + 0.011*\"characters\" + 0.009*\"plot\" + 0.008*\"man\" + 0.008*\"rather\"')\n",
      "(35, '0.091*\"book\" + 0.031*\"read\" + 0.016*\"book.\" + 0.013*\"books\" + 0.012*\"one\" + 0.012*\"reading\"')\n",
      "(36, '0.052*\"season\" + 0.036*\"...\" + 0.027*\"issue\" + 0.022*\"show\" + 0.021*\"episode\" + 0.016*\"episodes\"')\n",
      "(37, '0.049*\"version\" + 0.025*\"collection\" + 0.015*\"original\" + 0.011*\"greatest\" + 0.011*\"cant\" + 0.009*\"king\"')\n",
      "(38, '0.014*\"show.\" + 0.013*\"funny,\" + 0.012*\"excellent.\" + 0.011*\"japanese\" + 0.011*\"individual\" + 0.010*\"hang\"')\n",
      "(39, '0.038*\"camera\" + 0.022*\"pictures\" + 0.019*\"drive\" + 0.013*\"case\" + 0.012*\"god\" + 0.011*\"church\"')\n",
      "(40, '0.025*\"received\" + 0.024*\"amazon\" + 0.019*\"product\" + 0.018*\"ordered\" + 0.017*\"item\" + 0.015*\"order\"')\n",
      "(41, '0.054*\"useful\" + 0.026*\"bottle\" + 0.021*\"library\" + 0.017*\"mom\" + 0.016*\"disappointment:\" + 0.013*\"sections\"')\n",
      "(42, '0.027*\"tool\" + 0.021*\"actors\" + 0.018*\"old.\" + 0.015*\"younger\" + 0.014*\"tools\" + 0.013*\"ray\"')\n",
      "(43, '0.024*\"hair\" + 0.021*\"fell\" + 0.021*\"taste\" + 0.019*\"machine\" + 0.016*\"apart\" + 0.015*\"problem.\"')\n",
      "(44, '0.132*\"game\" + 0.061*\"play\" + 0.024*\"games\" + 0.023*\"game.\" + 0.023*\"player\" + 0.018*\"graphics\"')\n",
      "(45, '0.019*\"mouse\" + 0.017*\"travel\" + 0.017*\"state\" + 0.015*\"runs\" + 0.015*\"fine,\" + 0.014*\"lovely\"')\n",
      "(46, '0.022*\"immediately\" + 0.018*\"zero\" + 0.015*\"hero\" + 0.015*\"enough.\" + 0.014*\"speed\" + 0.014*\"performances\"')\n",
      "(47, '0.020*\"mine\" + 0.016*\"replaced\" + 0.015*\"kindle\" + 0.014*\"designed\" + 0.013*\"shipped\" + 0.012*\"date\"')\n",
      "(48, '0.016*\"we\\'ve\" + 0.016*\"pan\" + 0.014*\"wire\" + 0.013*\"afraid\" + 0.013*\"included\" + 0.010*\"catch\"')\n",
      "(49, '0.110*\"movie\" + 0.039*\"dvd\" + 0.039*\"film\" + 0.038*\"watch\" + 0.022*\"movie.\" + 0.020*\"movies\"')\n"
     ]
    }
   ],
   "source": [
    "topics = ldamodel.print_topics(num_topics = NUM_TOPICS, num_words=6)\n",
    "print ('Number of topics:', len(topics))\n",
    "for topic in topics:\n",
    "    print(topic)"
   ]
  },
  {
   "cell_type": "code",
   "execution_count": 18,
   "metadata": {},
   "outputs": [
    {
     "name": "stdout",
     "output_type": "stream",
     "text": [
      "topic distribution:\n",
      " [(17, 0.20201175), (19, 0.11446888), (23, 0.08947453), (24, 0.101987064), (29, 0.18789904), (39, 0.10201461), (49, 0.116127454)]\n"
     ]
    }
   ],
   "source": [
    "# predict topic distribution of a new document\n",
    "new_doc = 'This action camera has superb battery life but its picture quality is somewhat poor.'\n",
    "new_doc = prepare_text_for_lda(new_doc)\n",
    "new_doc_bow = dictionary.doc2bow(new_doc)\n",
    "predicted_topics = ldamodel.get_document_topics(new_doc_bow)\n",
    "print('topic distribution:\\n', predicted_topics)"
   ]
  },
  {
   "cell_type": "markdown",
   "metadata": {},
   "source": [
    "# Label Distribution "
   ]
  },
  {
   "cell_type": "code",
   "execution_count": 19,
   "metadata": {},
   "outputs": [
    {
     "name": "stdout",
     "output_type": "stream",
     "text": [
      "Counter({'1': 15091, '0': 14905})\n"
     ]
    }
   ],
   "source": [
    "# keep a list of title lengths (title length = # of tokens in title)\n",
    "counter = Counter()\n",
    "for index, row in dataframe.iterrows():\n",
    "    counter.update(str(row['label']))\n",
    "print(counter)"
   ]
  },
  {
   "cell_type": "code",
   "execution_count": 20,
   "metadata": {},
   "outputs": [
    {
     "name": "stdout",
     "output_type": "stream",
     "text": [
      "Positive label 0.5031004133884518\n",
      "Negative label 0.4968995866115482\n"
     ]
    }
   ],
   "source": [
    "print('Positive label', counter['1']/sum(counter.values()))\n",
    "print('Negative label', counter['0']/sum(counter.values()))"
   ]
  },
  {
   "cell_type": "code",
   "execution_count": null,
   "metadata": {},
   "outputs": [],
   "source": []
  }
 ],
 "metadata": {
  "kernelspec": {
   "display_name": "Python 3",
   "language": "python",
   "name": "python3"
  },
  "language_info": {
   "codemirror_mode": {
    "name": "ipython",
    "version": 3
   },
   "file_extension": ".py",
   "mimetype": "text/x-python",
   "name": "python",
   "nbconvert_exporter": "python",
   "pygments_lexer": "ipython3",
   "version": "3.8.8"
  }
 },
 "nbformat": 4,
 "nbformat_minor": 5
}
